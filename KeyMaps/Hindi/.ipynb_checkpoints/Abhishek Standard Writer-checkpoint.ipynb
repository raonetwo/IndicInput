{
 "cells": [
  {
   "cell_type": "code",
   "execution_count": 9,
   "metadata": {},
   "outputs": [],
   "source": [
    "import csv\n",
    "\n",
    "with open('vyanjana.csv') as vyanjana:\n",
    "    vyanjana_reader = csv.reader(vyanjana, delimiter=',')\n",
    "    for vyanjana_entry in vyanjana_reader:\n",
    "        with open('swar.csv') as swar:\n",
    "            swar_reader = csv.reader(swar, delimiter=',')\n",
    "            for swar_entry in swar_reader:\n",
    "                with open('Hindi_Abhishek_Standard.txt', \"a\") as standard: \n",
    "                    standard.write(vyanjana_entry[0] + swar_entry[0] + \",\" + vyanjana_entry[1][:-1] +swar_entry[1]+\"\\n\")"
   ]
  },
  {
   "cell_type": "code",
   "execution_count": null,
   "metadata": {},
   "outputs": [],
   "source": []
  }
 ],
 "metadata": {
  "kernelspec": {
   "display_name": "Python 3",
   "language": "python",
   "name": "python3"
  },
  "language_info": {
   "codemirror_mode": {
    "name": "ipython",
    "version": 3
   },
   "file_extension": ".py",
   "mimetype": "text/x-python",
   "name": "python",
   "nbconvert_exporter": "python",
   "pygments_lexer": "ipython3",
   "version": "3.7.4"
  }
 },
 "nbformat": 4,
 "nbformat_minor": 4
}
